{
 "cells": [
  {
   "cell_type": "code",
   "execution_count": 1,
   "id": "235ce6a8-c99e-42b7-8c19-cadf1c20a81a",
   "metadata": {},
   "outputs": [
    {
     "name": "stdout",
     "output_type": "stream",
     "text": [
      "Successfully loaded 'Year 2009-2010' sheet.\n",
      "Successfully loaded 'Year 2010-2011' sheet.\n",
      "\n",
      "Successfully combined both datasets into a single DataFrame 'df'.\n",
      "Total number of rows in combined DataFrame: 1067371\n"
     ]
    }
   ],
   "source": [
    "import pandas as pd\n",
    "import numpy as np \n",
    "\n",
    "# file name \n",
    "file_path = 'online_retail_II.xlsx' \n",
    "\n",
    "try:\n",
    "    # Loading the first sheet (Year 2009-2010)\n",
    "    df_2009_2010 = pd.read_excel(file_path, sheet_name='Year 2009-2010')\n",
    "    print(\"Successfully loaded 'Year 2009-2010' sheet.\")\n",
    "\n",
    "    # Loading the second sheet (Year 2010-2011)\n",
    "    df_2010_2011 = pd.read_excel(file_path, sheet_name='Year 2010-2011')\n",
    "    print(\"Successfully loaded 'Year 2010-2011' sheet.\")\n",
    "\n",
    "    # --- Combining the two dataframes ---\n",
    "    # I use pd.concat to stack them on top of each other.\n",
    "    # ignore_index=True resets the index, which is important when combining.\n",
    "    df = pd.concat([df_2009_2010, df_2010_2011], ignore_index=True)\n",
    "    print(\"\\nSuccessfully combined both datasets into a single DataFrame 'df'.\")\n",
    "    print(f\"Total number of rows in combined DataFrame: {len(df)}\")\n",
    "\n",
    "except FileNotFoundError:\n",
    "    print(f\"Error: The file '{file_path}' was not found.\")\n",
    "    print(f\"Please make sure you have downloaded '{file_path}' from Kaggle and placed it in the same directory as your Jupyter Notebook.\")\n",
    "except Exception as e:\n",
    "    print(f\"An error occurred while loading the data: {e}\")"
   ]
  },
  {
   "cell_type": "markdown",
   "id": "605c431f-ac60-4c0b-b413-96afac0db39e",
   "metadata": {},
   "source": [
    "### Data Acquisition & Initial Exploration"
   ]
  },
  {
   "cell_type": "code",
   "execution_count": 2,
   "id": "b25fa035-a48e-4744-8fd1-f6c1c2e99521",
   "metadata": {},
   "outputs": [
    {
     "name": "stdout",
     "output_type": "stream",
     "text": [
      "--- First 5 rows of the combined DataFrame ---\n",
      "  Invoice StockCode                          Description  Quantity  \\\n",
      "0  489434     85048  15CM CHRISTMAS GLASS BALL 20 LIGHTS        12   \n",
      "1  489434    79323P                   PINK CHERRY LIGHTS        12   \n",
      "2  489434    79323W                  WHITE CHERRY LIGHTS        12   \n",
      "3  489434     22041         RECORD FRAME 7\" SINGLE SIZE         48   \n",
      "4  489434     21232       STRAWBERRY CERAMIC TRINKET BOX        24   \n",
      "\n",
      "          InvoiceDate  Price  Customer ID         Country  \n",
      "0 2009-12-01 07:45:00   6.95      13085.0  United Kingdom  \n",
      "1 2009-12-01 07:45:00   6.75      13085.0  United Kingdom  \n",
      "2 2009-12-01 07:45:00   6.75      13085.0  United Kingdom  \n",
      "3 2009-12-01 07:45:00   2.10      13085.0  United Kingdom  \n",
      "4 2009-12-01 07:45:00   1.25      13085.0  United Kingdom  \n",
      "\n",
      "--- DataFrame Information (df.info()) ---\n",
      "<class 'pandas.core.frame.DataFrame'>\n",
      "RangeIndex: 1067371 entries, 0 to 1067370\n",
      "Data columns (total 8 columns):\n",
      " #   Column       Non-Null Count    Dtype         \n",
      "---  ------       --------------    -----         \n",
      " 0   Invoice      1067371 non-null  object        \n",
      " 1   StockCode    1067371 non-null  object        \n",
      " 2   Description  1062989 non-null  object        \n",
      " 3   Quantity     1067371 non-null  int64         \n",
      " 4   InvoiceDate  1067371 non-null  datetime64[ns]\n",
      " 5   Price        1067371 non-null  float64       \n",
      " 6   Customer ID  824364 non-null   float64       \n",
      " 7   Country      1067371 non-null  object        \n",
      "dtypes: datetime64[ns](1), float64(2), int64(1), object(4)\n",
      "memory usage: 65.1+ MB\n",
      "\n",
      "--- Descriptive Statistics for Numerical Columns (df.describe()) ---\n",
      "           Quantity                    InvoiceDate         Price  \\\n",
      "count  1.067371e+06                        1067371  1.067371e+06   \n",
      "mean   9.938898e+00  2011-01-02 21:13:55.394028544  4.649388e+00   \n",
      "min   -8.099500e+04            2009-12-01 07:45:00 -5.359436e+04   \n",
      "25%    1.000000e+00            2010-07-09 09:46:00  1.250000e+00   \n",
      "50%    3.000000e+00            2010-12-07 15:28:00  2.100000e+00   \n",
      "75%    1.000000e+01            2011-07-22 10:23:00  4.150000e+00   \n",
      "max    8.099500e+04            2011-12-09 12:50:00  3.897000e+04   \n",
      "std    1.727058e+02                            NaN  1.235531e+02   \n",
      "\n",
      "         Customer ID  \n",
      "count  824364.000000  \n",
      "mean    15324.638504  \n",
      "min     12346.000000  \n",
      "25%     13975.000000  \n",
      "50%     15255.000000  \n",
      "75%     16797.000000  \n",
      "max     18287.000000  \n",
      "std      1697.464450  \n",
      "\n",
      "--- Count of Missing Values (df.isnull().sum()) ---\n",
      "Invoice             0\n",
      "StockCode           0\n",
      "Description      4382\n",
      "Quantity            0\n",
      "InvoiceDate         0\n",
      "Price               0\n",
      "Customer ID    243007\n",
      "Country             0\n",
      "dtype: int64\n"
     ]
    }
   ],
   "source": [
    "# ---  Initial Inspection of the combined DataFrame ---\n",
    "\n",
    "print(\"--- First 5 rows of the combined DataFrame ---\")\n",
    "print(df.head())\n",
    "\n",
    "print(\"\\n--- DataFrame Information (df.info()) ---\")\n",
    "df.info()\n",
    "\n",
    "print(\"\\n--- Descriptive Statistics for Numerical Columns (df.describe()) ---\")\n",
    "print(df.describe())\n",
    "\n",
    "print(\"\\n--- Count of Missing Values (df.isnull().sum()) ---\")\n",
    "print(df.isnull().sum())"
   ]
  },
  {
   "cell_type": "code",
   "execution_count": 3,
   "id": "b5accf3e-cc5f-410a-879e-322d091bd216",
   "metadata": {},
   "outputs": [
    {
     "name": "stdout",
     "output_type": "stream",
     "text": [
      "Original rows: 1067371\n",
      "Rows after dropping missing Customer IDs: 824364\n",
      "Rows removed due to missing Customer ID: 243007\n",
      "Customer ID column successfully converted to integer type.\n",
      "\n",
      "--- Missing values after handling Customer ID ---\n",
      "Invoice        0\n",
      "StockCode      0\n",
      "Description    0\n",
      "Quantity       0\n",
      "InvoiceDate    0\n",
      "Price          0\n",
      "Customer ID    0\n",
      "Country        0\n",
      "dtype: int64\n"
     ]
    }
   ],
   "source": [
    "# --- Handling Missing Customer ID ---\n",
    "# This is a Critical step: I will Drop rows where Customer ID is NaN, as i cannot segment unknown customers.\n",
    "\n",
    "original_rows = len(df)\n",
    "df.dropna(subset=['Customer ID'], inplace=True)\n",
    "rows_after_customer_id_drop = len(df)\n",
    "\n",
    "print(f\"Original rows: {original_rows}\")\n",
    "print(f\"Rows after dropping missing Customer IDs: {rows_after_customer_id_drop}\")\n",
    "print(f\"Rows removed due to missing Customer ID: {original_rows - rows_after_customer_id_drop}\")\n",
    "\n",
    "# Convert Customer ID to integer after dropping NaNs\n",
    "df['Customer ID'] = df['Customer ID'].astype(int)\n",
    "print(\"Customer ID column successfully converted to integer type.\")\n",
    "\n",
    "# Re-check missing values after this step\n",
    "print(\"\\n--- Missing values after handling Customer ID ---\")\n",
    "print(df.isnull().sum())"
   ]
  },
  {
   "cell_type": "code",
   "execution_count": 4,
   "id": "020866d0-dba6-42ee-ad60-4541747a9b71",
   "metadata": {},
   "outputs": [
    {
     "name": "stdout",
     "output_type": "stream",
     "text": [
      "Rows before filtering for positive Quantity/Price: 824364\n",
      "Rows after filtering for positive Quantity/Price: 805549\n",
      "Rows removed due to non-positive Quantity or Price: 18815\n",
      "\n",
      "--- Descriptive Statistics after handling Quantity/Price negatives ---\n",
      "            Quantity          Price\n",
      "count  805549.000000  805549.000000\n",
      "mean       13.290522       3.206561\n",
      "std       143.634088      29.199173\n",
      "min         1.000000       0.001000\n",
      "25%         2.000000       1.250000\n",
      "50%         5.000000       1.950000\n",
      "75%        12.000000       3.750000\n",
      "max     80995.000000   10953.500000\n",
      "\n",
      "--- Missing values after handling Quantity/Price negatives ---\n",
      "Invoice        0\n",
      "StockCode      0\n",
      "Description    0\n",
      "Quantity       0\n",
      "InvoiceDate    0\n",
      "Price          0\n",
      "Customer ID    0\n",
      "Country        0\n",
      "dtype: int64\n"
     ]
    }
   ],
   "source": [
    "# ---  Handling Negative Quantity and Price ---\n",
    "# I will Remove rows with non-positive Quantity or Price, as these are returns/cancellations or invalid data.\n",
    "\n",
    "rows_before_neg_filter = len(df)\n",
    "df = df[df['Quantity'] > 0] # Keep only positive quantities\n",
    "df = df[df['Price'] > 0]    # Keep only positive prices\n",
    "\n",
    "rows_after_neg_filter = len(df)\n",
    "\n",
    "print(f\"Rows before filtering for positive Quantity/Price: {rows_before_neg_filter}\")\n",
    "print(f\"Rows after filtering for positive Quantity/Price: {rows_after_neg_filter}\")\n",
    "print(f\"Rows removed due to non-positive Quantity or Price: {rows_before_neg_filter - rows_after_neg_filter}\")\n",
    "\n",
    "# Displaying descriptive statistics again is very immportant to confirm Quantity and Price are now positive\n",
    "print(\"\\n--- Descriptive Statistics after handling Quantity/Price negatives ---\")\n",
    "print(df[['Quantity', 'Price']].describe())\n",
    "\n",
    "# I'ts Necessary to Re-check for any remaining missing values but i think it should still be zero after previous step\n",
    "print(\"\\n--- Missing values after handling Quantity/Price negatives ---\")\n",
    "print(df.isnull().sum())"
   ]
  },
  {
   "cell_type": "code",
   "execution_count": 5,
   "id": "7aa797af-bb63-4481-9928-602cc5f171a1",
   "metadata": {},
   "outputs": [
    {
     "name": "stdout",
     "output_type": "stream",
     "text": [
      "\n",
      "--- First 5 rows with the new 'TotalPrice' column ---\n",
      "  Invoice StockCode                          Description  Quantity  \\\n",
      "0  489434     85048  15CM CHRISTMAS GLASS BALL 20 LIGHTS        12   \n",
      "1  489434    79323P                   PINK CHERRY LIGHTS        12   \n",
      "2  489434    79323W                  WHITE CHERRY LIGHTS        12   \n",
      "3  489434     22041         RECORD FRAME 7\" SINGLE SIZE         48   \n",
      "4  489434     21232       STRAWBERRY CERAMIC TRINKET BOX        24   \n",
      "\n",
      "          InvoiceDate  Price  Customer ID         Country  TotalPrice  \n",
      "0 2009-12-01 07:45:00   6.95        13085  United Kingdom        83.4  \n",
      "1 2009-12-01 07:45:00   6.75        13085  United Kingdom        81.0  \n",
      "2 2009-12-01 07:45:00   6.75        13085  United Kingdom        81.0  \n",
      "3 2009-12-01 07:45:00   2.10        13085  United Kingdom       100.8  \n",
      "4 2009-12-01 07:45:00   1.25        13085  United Kingdom        30.0  \n",
      "\n",
      "--- Descriptive Statistics for 'TotalPrice' ---\n",
      "count    805549.000000\n",
      "mean         22.026505\n",
      "std         224.041928\n",
      "min           0.001000\n",
      "25%           4.950000\n",
      "50%          11.850000\n",
      "75%          19.500000\n",
      "max      168469.600000\n",
      "Name: TotalPrice, dtype: float64\n",
      "\n",
      "--- DataFrame Information after adding TotalPrice ---\n",
      "<class 'pandas.core.frame.DataFrame'>\n",
      "Index: 805549 entries, 0 to 1067370\n",
      "Data columns (total 9 columns):\n",
      " #   Column       Non-Null Count   Dtype         \n",
      "---  ------       --------------   -----         \n",
      " 0   Invoice      805549 non-null  object        \n",
      " 1   StockCode    805549 non-null  object        \n",
      " 2   Description  805549 non-null  object        \n",
      " 3   Quantity     805549 non-null  int64         \n",
      " 4   InvoiceDate  805549 non-null  datetime64[ns]\n",
      " 5   Price        805549 non-null  float64       \n",
      " 6   Customer ID  805549 non-null  int32         \n",
      " 7   Country      805549 non-null  object        \n",
      " 8   TotalPrice   805549 non-null  float64       \n",
      "dtypes: datetime64[ns](1), float64(2), int32(1), int64(1), object(4)\n",
      "memory usage: 58.4+ MB\n"
     ]
    }
   ],
   "source": [
    "# --- Creating TotalPrice Column ---\n",
    "# Calculating the TotalPrice for each transaction line item (Quantity * Price)\n",
    "\n",
    "df['TotalPrice'] = df['Quantity'] * df['Price']\n",
    "\n",
    "print(\"\\n--- First 5 rows with the new 'TotalPrice' column ---\")\n",
    "print(df.head())\n",
    "\n",
    "print(\"\\n--- Descriptive Statistics for 'TotalPrice' ---\")\n",
    "print(df['TotalPrice'].describe())\n",
    "\n",
    "# Re-checking info to confirm new column and its type\n",
    "print(\"\\n--- DataFrame Information after adding TotalPrice ---\")\n",
    "df.info()"
   ]
  },
  {
   "cell_type": "markdown",
   "id": "496e7176-6895-4474-8307-c826b1e918ba",
   "metadata": {},
   "source": [
    "### Feature Engineering for RFM Analysis"
   ]
  },
  {
   "cell_type": "code",
   "execution_count": 6,
   "id": "cca7d8d7-d625-4275-acf7-250d4b877270",
   "metadata": {},
   "outputs": [
    {
     "name": "stdout",
     "output_type": "stream",
     "text": [
      "Snapshot Date for Recency calculation: 2011-12-10 12:50:00\n",
      "\n",
      "--- Recency (R) Calculation ---\n",
      "   Customer ID    LastPurchaseDate  Recency\n",
      "0        12346 2011-01-18 10:01:00      326\n",
      "1        12347 2011-12-07 15:52:00        2\n",
      "2        12348 2011-09-25 13:13:00       75\n",
      "3        12349 2011-11-21 09:51:00       19\n",
      "4        12350 2011-02-02 16:01:00      310\n"
     ]
    }
   ],
   "source": [
    "# ---  Calculating Recency (R) ---\n",
    "\n",
    "# I'ts important to find the most recent date in the entire dataset\n",
    "snapshot_date = df['InvoiceDate'].max() + pd.Timedelta(days=1)\n",
    "print(f\"Snapshot Date for Recency calculation: {snapshot_date}\")\n",
    "\n",
    "# Calculate Recency: days since last purchase for each customer\n",
    "# Group by 'Customer ID', finding the latest 'InvoiceDate', then will calculate the difference in days\n",
    "rfm_r = df.groupby('Customer ID')['InvoiceDate'].max().reset_index()\n",
    "rfm_r.columns = ['Customer ID', 'LastPurchaseDate']\n",
    "rfm_r['Recency'] = (snapshot_date - rfm_r['LastPurchaseDate']).dt.days\n",
    "\n",
    "# Display the first few rows of the Recency calculation\n",
    "print(\"\\n--- Recency (R) Calculation ---\")\n",
    "print(rfm_r.head())\n",
    "\n",
    "# Drop the 'LastPurchaseDate' as we only need 'Recency' for the final RFM table\n",
    "rfm_r = rfm_r[['Customer ID', 'Recency']]"
   ]
  },
  {
   "cell_type": "code",
   "execution_count": 7,
   "id": "3f0a1a87-6fd3-47a9-ba91-cb910ab2bbee",
   "metadata": {},
   "outputs": [
    {
     "name": "stdout",
     "output_type": "stream",
     "text": [
      "\n",
      "--- Frequency (F) Calculation ---\n",
      "   Customer ID  Frequency\n",
      "0        12346         12\n",
      "1        12347          8\n",
      "2        12348          5\n",
      "3        12349          4\n",
      "4        12350          1\n"
     ]
    }
   ],
   "source": [
    "# ---  Calculating Frequency (F) ---\n",
    "\n",
    "# Calculate Frequency: number of unique invoices for each customer\n",
    "rfm_f = df.groupby('Customer ID')['Invoice'].nunique().reset_index()\n",
    "rfm_f.columns = ['Customer ID', 'Frequency']\n",
    "\n",
    "# Displaying the first few rows of the Frequency calculation\n",
    "print(\"\\n--- Frequency (F) Calculation ---\")\n",
    "print(rfm_f.head())"
   ]
  },
  {
   "cell_type": "code",
   "execution_count": 8,
   "id": "c093fc37-41bb-47b9-9b1f-6acc9eb8595d",
   "metadata": {},
   "outputs": [
    {
     "name": "stdout",
     "output_type": "stream",
     "text": [
      "\n",
      "--- Monetary (M) Calculation ---\n",
      "   Customer ID  Monetary\n",
      "0        12346  77556.46\n",
      "1        12347   5633.32\n",
      "2        12348   2019.40\n",
      "3        12349   4428.69\n",
      "4        12350    334.40\n"
     ]
    }
   ],
   "source": [
    "# ---  Calculating Monetary (M) ---\n",
    "\n",
    "# Calculate Monetary: sum of TotalPrice for each customer\n",
    "rfm_m = df.groupby('Customer ID')['TotalPrice'].sum().reset_index()\n",
    "rfm_m.columns = ['Customer ID', 'Monetary']\n",
    "\n",
    "# Displaying the first few rows of the Monetary calculation\n",
    "print(\"\\n--- Monetary (M) Calculation ---\")\n",
    "print(rfm_m.head())"
   ]
  },
  {
   "cell_type": "code",
   "execution_count": 9,
   "id": "5191e886-90a2-4f7c-aaae-51464253166c",
   "metadata": {},
   "outputs": [
    {
     "name": "stdout",
     "output_type": "stream",
     "text": [
      "\n",
      "--- Combined RFM DataFrame (rfm_df) ---\n",
      "   Customer ID  Recency  Frequency  Monetary\n",
      "0        12346      326         12  77556.46\n",
      "1        12347        2          8   5633.32\n",
      "2        12348       75          5   2019.40\n",
      "3        12349       19          4   4428.69\n",
      "4        12350      310          1    334.40\n",
      "\n",
      "--- RFM DataFrame Information ---\n",
      "<class 'pandas.core.frame.DataFrame'>\n",
      "RangeIndex: 5878 entries, 0 to 5877\n",
      "Data columns (total 4 columns):\n",
      " #   Column       Non-Null Count  Dtype  \n",
      "---  ------       --------------  -----  \n",
      " 0   Customer ID  5878 non-null   int32  \n",
      " 1   Recency      5878 non-null   int64  \n",
      " 2   Frequency    5878 non-null   int64  \n",
      " 3   Monetary     5878 non-null   float64\n",
      "dtypes: float64(1), int32(1), int64(2)\n",
      "memory usage: 160.9 KB\n",
      "\n",
      "--- RFM DataFrame Descriptive Statistics ---\n",
      "        Customer ID      Recency    Frequency       Monetary\n",
      "count   5878.000000  5878.000000  5878.000000    5878.000000\n",
      "mean   15315.313542   201.331916     6.289384    3018.616737\n",
      "std     1715.572666   209.338707    13.009406   14737.731040\n",
      "min    12346.000000     1.000000     1.000000       2.950000\n",
      "25%    13833.250000    26.000000     1.000000     348.762500\n",
      "50%    15314.500000    96.000000     3.000000     898.915000\n",
      "75%    16797.750000   380.000000     7.000000    2307.090000\n",
      "max    18287.000000   739.000000   398.000000  608821.650000\n"
     ]
    }
   ],
   "source": [
    "# ---  Combine R, F, M into a single DataFrame ---\n",
    "\n",
    "# Merging the R, F, and M dataframes\n",
    "rfm_df = rfm_r.merge(rfm_f, on='Customer ID')\n",
    "rfm_df = rfm_df.merge(rfm_m, on='Customer ID')\n",
    "\n",
    "print(\"\\n--- Combined RFM DataFrame (rfm_df) ---\")\n",
    "print(rfm_df.head())\n",
    "\n",
    "print(\"\\n--- RFM DataFrame Information ---\")\n",
    "rfm_df.info()\n",
    "\n",
    "print(\"\\n--- RFM DataFrame Descriptive Statistics ---\")\n",
    "print(rfm_df.describe())"
   ]
  },
  {
   "cell_type": "markdown",
   "id": "3d85f5e3-0578-402c-86ab-c255fa79883b",
   "metadata": {},
   "source": [
    "### Data Preprocessing for Clustering"
   ]
  },
  {
   "cell_type": "markdown",
   "id": "bfc76be8-c6f2-4b15-8623-1c86da3254fa",
   "metadata": {},
   "source": [
    "###### \n",
    "Step 1: Handle Skewness with Log Transformation\n",
    "\n",
    "I'll apply a log1p transformation (log(1+x)) to Recency, Frequency, and Monetary. This helps to normalize skewed distributions and reduce the impact of extreme outliers, making the data more suitable for clustering algorithms. log1p is chosen over log to safely handle potential zero values, although our min values are currently above zero.\n",
    "\n",
    "Step 2: Scale the Features\n",
    "\n",
    "After log transformation, i need to scale the features. K-Means clustering calculates distances between data points. If features have different scales (e.g., Monetary values are much larger than Recency days), features with larger values will have a disproportionately higher influence on the distance calculation. StandardScaler (which transforms data to have a mean of 0 and a standard deviation of 1) is a common and effective choice for K-Means."
   ]
  },
  {
   "cell_type": "code",
   "execution_count": 10,
   "id": "7dc9ebae-d18d-40a1-89ed-f10f4f2b27b8",
   "metadata": {},
   "outputs": [
    {
     "name": "stdout",
     "output_type": "stream",
     "text": [
      "--- First 5 rows of Log-Transformed RFM Data ---\n",
      "    Recency  Frequency   Monetary\n",
      "0  5.789960   2.564949  11.258774\n",
      "1  1.098612   2.197225   8.636632\n",
      "2  4.330733   1.791759   7.611051\n",
      "3  2.995732   1.609438   8.396085\n",
      "4  5.739793   0.693147   5.815324\n",
      "\n",
      "--- Descriptive Statistics for Log-Transformed RFM Data ---\n",
      "           Recency    Frequency     Monetary\n",
      "count  5878.000000  5878.000000  5878.000000\n",
      "mean      4.454132     1.549588     6.836550\n",
      "std       1.559404     0.809447     1.387864\n",
      "min       0.693147     0.693147     1.373716\n",
      "25%       3.295837     0.693147     5.857254\n",
      "50%       4.574711     1.386294     6.802300\n",
      "75%       5.942799     2.079442     7.744175\n",
      "max       6.606650     5.988961    13.319282\n",
      "\n",
      "--- First 5 rows of Scaled RFM Data ---\n",
      "    Recency  Frequency  Monetary\n",
      "0  0.856701   1.254496  3.186625\n",
      "1 -2.151979   0.800166  1.297127\n",
      "2 -0.079138   0.299207  0.558100\n",
      "3 -0.935308   0.073946  1.123790\n",
      "4  0.824527  -1.058146 -0.735888\n",
      "\n",
      "--- Descriptive Statistics for Scaled RFM Data ---\n",
      "            Recency     Frequency      Monetary\n",
      "count  5.878000e+03  5.878000e+03  5.878000e+03\n",
      "mean  -5.052856e-16  2.381370e-16 -4.351742e-16\n",
      "std    1.000085e+00  1.000085e+00  1.000085e+00\n",
      "min   -2.412014e+00 -1.058146e+00 -3.936481e+00\n",
      "25%   -7.428435e-01 -1.058146e+00 -7.056734e-01\n",
      "50%    7.733065e-02 -2.017514e-01 -2.467978e-02\n",
      "75%    9.547202e-01  6.546432e-01  6.540289e-01\n",
      "max    1.380464e+00  5.484918e+00  4.671413e+00\n"
     ]
    }
   ],
   "source": [
    "from sklearn.preprocessing import StandardScaler\n",
    "import matplotlib.pyplot as plt\n",
    "import seaborn as sns # For  visualizations \n",
    "\n",
    "# ---  Handle Skewness with Log Transformation ---\n",
    "\n",
    "# Applying log1p transformation to R, F, M features\n",
    "# I will create a new DataFrame for these transformed features to keep original RFM_df intact\n",
    "rfm_log = rfm_df[['Recency', 'Frequency', 'Monetary']].apply(np.log1p)\n",
    "\n",
    "print(\"--- First 5 rows of Log-Transformed RFM Data ---\")\n",
    "print(rfm_log.head())\n",
    "\n",
    "print(\"\\n--- Descriptive Statistics for Log-Transformed RFM Data ---\")\n",
    "print(rfm_log.describe())\n",
    "\n",
    "# This is Optional: Visualizing distributions before and after transformation\n",
    "# but i did it for my report\n",
    "# plt.figure(figsize=(15, 5))\n",
    "# for i, col in enumerate(['Recency', 'Frequency', 'Monetary']):\n",
    "#     plt.subplot(1, 3, i+1)\n",
    "#     sns.histplot(rfm_df[col], kde=True, bins=30)\n",
    "#     plt.title(f'Original {col} Distribution')\n",
    "# plt.tight_layout()\n",
    "# plt.show()\n",
    "\n",
    "# plt.figure(figsize=(15, 5))\n",
    "# for i, col in enumerate(['Recency', 'Frequency', 'Monetary']):\n",
    "#     plt.subplot(1, 3, i+1)\n",
    "#     sns.histplot(rfm_log[col], kde=True, bins=30)\n",
    "#     plt.title(f'Log-Transformed {col} Distribution')\n",
    "# plt.tight_layout()\n",
    "# plt.show()\n",
    "\n",
    "\n",
    "# ---  Scale the Features ---\n",
    "\n",
    "# Initialize StandardScaler\n",
    "scaler = StandardScaler()\n",
    "\n",
    "# Fit and transform the log-transformed RFM data\n",
    "rfm_scaled_array = scaler.fit_transform(rfm_log)\n",
    "\n",
    "# Converting the scaled array back to a DataFrame for easier handling\n",
    "rfm_scaled_df = pd.DataFrame(rfm_scaled_array, columns=rfm_log.columns, index=rfm_log.index)\n",
    "\n",
    "print(\"\\n--- First 5 rows of Scaled RFM Data ---\")\n",
    "print(rfm_scaled_df.head())\n",
    "\n",
    "print(\"\\n--- Descriptive Statistics for Scaled RFM Data ---\")\n",
    "print(rfm_scaled_df.describe())"
   ]
  },
  {
   "cell_type": "markdown",
   "id": "2e4e2970-9439-4931-95f2-ab578a7d1cbe",
   "metadata": {},
   "source": [
    "###  K-Means Clustering - Determining Optimal k"
   ]
  },
  {
   "cell_type": "markdown",
   "id": "5093c5d4-0c6d-482e-a503-ac3fcd1908d8",
   "metadata": {},
   "source": [
    "##### \n",
    "I'll use two common methods to find the best k:\n",
    "\n",
    "Step 1: Elbow Method\n",
    "\n",
    "The Elbow Method plots the \"inertia\" (sum of squared distances of samples to their closest cluster center) for different k values. The idea is to find the \"elbow\" point where the rate of decrease in inertia slows significantly, suggesting that adding more clusters beyond that point doesn't explain much more variance.\n",
    "\n",
    "Step 2: Silhouette Score\n",
    "\n",
    "The Silhouette Score measures how similar an object is to its own cluster (cohesion) compared to other clusters (separation). A higher silhouette score indicates that the object is well-matched to its own cluster and poorly matched to neighboring clusters. Scores range from -1 (bad clustering) to +1 (dense, well-separated clusters)."
   ]
  },
  {
   "cell_type": "code",
   "execution_count": 11,
   "id": "0b4b4263-1ecc-4a11-a1c5-07ae7c487ae5",
   "metadata": {},
   "outputs": [
    {
     "data": {
      "image/png": "[encoded data removed]",
      "text/plain": [
       "<Figure size 1000x600 with 1 Axes>"
      ]
     },
     "metadata": {},
     "output_type": "display_data"
    },
    {
     "data": {
      "image/png": "[encoded data removed]",
      "text/plain": [
       "<Figure size 1000x600 with 1 Axes>"
      ]
     },
     "metadata": {},
     "output_type": "display_data"
    },
    {
     "name": "stdout",
     "output_type": "stream",
     "text": [
      "\n",
      "--- Inertia values for Elbow Method ---\n",
      "K=1: 17634.00\n",
      "K=2: 8588.79\n",
      "K=3: 6352.77\n",
      "K=4: 4918.88\n",
      "K=5: 4099.64\n",
      "K=6: 3553.39\n",
      "K=7: 3192.77\n",
      "K=8: 2953.92\n",
      "K=9: 2680.70\n",
      "K=10: 2470.73\n",
      "\n",
      "--- Silhouette Scores ---\n",
      "K=2: 0.4391\n",
      "K=3: 0.3472\n",
      "K=4: 0.3651\n",
      "K=5: 0.3405\n",
      "K=6: 0.3318\n",
      "K=7: 0.2965\n",
      "K=8: 0.2802\n",
      "K=9: 0.2802\n",
      "K=10: 0.2818\n"
     ]
    }
   ],
   "source": [
    "from sklearn.cluster import KMeans\n",
    "from sklearn.metrics import silhouette_score\n",
    "import matplotlib.pyplot as plt\n",
    "import seaborn as sns # For enhanced plots\n",
    "\n",
    "# ---  Elbow Method to find optimal k ---\n",
    "\n",
    "inertia = []\n",
    "# I'll test k from 1 to 10. \n",
    "# It's good practice to run KMeans multiple times with different initial centroids (n_init)\n",
    "# to avoid local optima. 'auto' is a good default for recent sklearn versions.\n",
    "for k in range(1, 11):\n",
    "    kmeans = KMeans(n_clusters=k, random_state=42, n_init='auto')\n",
    "    kmeans.fit(rfm_scaled_df)\n",
    "    inertia.append(kmeans.inertia_)\n",
    "\n",
    "plt.figure(figsize=(10, 6))\n",
    "plt.plot(range(1, 11), inertia, marker='o')\n",
    "plt.title('Elbow Method for Optimal K')\n",
    "plt.xlabel('Number of Clusters (K)')\n",
    "plt.ylabel('Inertia (Sum of Squared Distances)')\n",
    "plt.xticks(range(1, 11))\n",
    "plt.grid(True)\n",
    "plt.show()\n",
    "\n",
    "# ---  Silhouette Score to find optimal k ---\n",
    "\n",
    "silhouette_scores = []\n",
    "# Silhouette score requires at least 2 clusters\n",
    "for k in range(2, 11):\n",
    "    kmeans = KMeans(n_clusters=k, random_state=42, n_init='auto')\n",
    "    kmeans.fit(rfm_scaled_df)\n",
    "    score = silhouette_score(rfm_scaled_df, kmeans.labels_)\n",
    "    silhouette_scores.append(score)\n",
    "\n",
    "plt.figure(figsize=(10, 6))\n",
    "plt.plot(range(2, 11), silhouette_scores, marker='o')\n",
    "plt.title('Silhouette Score for Optimal K')\n",
    "plt.xlabel('Number of Clusters (K)')\n",
    "plt.ylabel('Silhouette Score')\n",
    "plt.xticks(range(2, 11))\n",
    "plt.grid(True)\n",
    "plt.show()\n",
    "\n",
    "print(\"\\n--- Inertia values for Elbow Method ---\")\n",
    "for i, val in enumerate(inertia):\n",
    "    print(f\"K={i+1}: {val:.2f}\")\n",
    "\n",
    "print(\"\\n--- Silhouette Scores ---\")\n",
    "for i, score in enumerate(silhouette_scores):\n",
    "    print(f\"K={i+2}: {score:.4f}\") # Start from K=2 for silhouette"
   ]
  },
  {
   "cell_type": "markdown",
   "id": "cf667ce7-8f8e-40ae-b722-e0f3698eed94",
   "metadata": {},
   "source": [
    " ### K-Means Clustering - Applying K-Means"
   ]
  },
  {
   "cell_type": "markdown",
   "id": "b209e149-5c0c-4a83-ac21-c777f761d94f",
   "metadata": {},
   "source": [
    "#### Apply K-Means Clustering with k=4"
   ]
  },
  {
   "cell_type": "markdown",
   "id": "7330ad06-792a-4e8d-8bd6-19ab03a037f0",
   "metadata": {},
   "source": [
    "#####\n",
    "Reason:\n",
    "\n",
    "Elbow Method: K=4 is a clear point where the rate of decrease in inertia significantly slows down, indicating that adding more clusters beyond this point provides diminishing returns in explaining variance.\n",
    "Silhouette Score: While K=2 has the absolute highest score, K=4 has the second-highest score and is more robust than K=3's score. This suggests that 4 clusters still maintain a reasonable degree of separation and cohesion.\n",
    "Business Interpretability: Having 4 segments (compared to 2 or 3) often allows for more nuanced and actionable marketing strategies. For example, you might distinguish between \"Loyal High-Value,\" \"Regular Mid-Value,\" \"New/Promising,\" and \"Infrequent/Churned\" customers. This level of granularity is usually more valuable for a retail business."
   ]
  },
  {
   "cell_type": "code",
   "execution_count": 12,
   "id": "6e1a7da2-fdb9-4a9d-a4b4-a2b298e4c72f",
   "metadata": {},
   "outputs": [
    {
     "name": "stdout",
     "output_type": "stream",
     "text": [
      "\n",
      "--- K-Means Clustering with 4 Clusters Applied ---\n",
      "First 10 rows of RFM DataFrame with Cluster Labels:\n",
      "   Customer ID  Recency  Frequency  Monetary  Cluster\n",
      "0        12346      326         12  77556.46        0\n",
      "1        12347        2          8   5633.32        0\n",
      "2        12348       75          5   2019.40        1\n",
      "3        12349       19          4   4428.69        2\n",
      "4        12350      310          1    334.40        3\n",
      "5        12351      375          1    300.93        3\n",
      "6        12352       36         10   2849.84        0\n",
      "7        12353      204          2    406.76        3\n",
      "8        12354      232          1   1079.40        3\n",
      "9        12355      214          2    947.61        1\n",
      "\n",
      "--- Distribution of Customers per Cluster ---\n",
      "Cluster\n",
      "0    1194\n",
      "1    1469\n",
      "2    1253\n",
      "3    1962\n",
      "Name: count, dtype: int64\n"
     ]
    }
   ],
   "source": [
    "# ---  Applying K-Means Clustering with the chosen k ---\n",
    "\n",
    "# Chosen number of clusters based on Elbow and Silhouette analysis\n",
    "optimal_k = 4 # I decided on 4 based on analysis\n",
    "\n",
    "# Initialize and fit K-Means\n",
    "# n_init='auto' is recommended to run K-Means multiple times with different centroid seeds\n",
    "# and choosing the best result (lowest inertia).\n",
    "# random_state ensures reproducibility of the results.\n",
    "kmeans = KMeans(n_clusters=optimal_k, random_state=42, n_init='auto')\n",
    "kmeans.fit(rfm_scaled_df)\n",
    "\n",
    "# Adding the cluster labels back to my original RFM DataFrame (rfm_df)\n",
    "# This is crucial for interpreting the clusters using the original, unscaled values.\n",
    "rfm_df['Cluster'] = kmeans.labels_\n",
    "\n",
    "print(f\"\\n--- K-Means Clustering with {optimal_k} Clusters Applied ---\")\n",
    "print(\"First 10 rows of RFM DataFrame with Cluster Labels:\")\n",
    "print(rfm_df.head(10))\n",
    "\n",
    "print(\"\\n--- Distribution of Customers per Cluster ---\")\n",
    "print(rfm_df['Cluster'].value_counts().sort_index())"
   ]
  },
  {
   "cell_type": "markdown",
   "id": "2d4da2c8-fa4f-4179-a039-5b1f42e498da",
   "metadata": {},
   "source": [
    "### Cluster Analysis & Interpretation"
   ]
  },
  {
   "cell_type": "markdown",
   "id": "43e68070-af60-48d5-88dd-a88ca7543e94",
   "metadata": {},
   "source": [
    "#### Characterizing Each Cluster\n",
    "\n",
    "I'll group the rfm_df (which now includes the 'Cluster' column) by the 'Cluster' column and calculate the mean of 'Recency', 'Frequency', and 'Monetary' for each."
   ]
  },
  {
   "cell_type": "code",
   "execution_count": 13,
   "id": "66662a87-2ee0-43db-a9d3-4dd8e96d14f2",
   "metadata": {},
   "outputs": [
    {
     "name": "stdout",
     "output_type": "stream",
     "text": [
      "\n",
      "--- Mean RFM Values for Each Cluster ---\n",
      "            Recency  Frequency      Monetary\n",
      "Cluster                                     \n",
      "0         27.599665  19.288107  10979.157033\n",
      "1        229.732471   5.055140   1984.205213\n",
      "2         28.407821   3.043895    867.885045\n",
      "3        396.229867   1.375637    322.149980\n"
     ]
    },
    {
     "data": {
      "image/png": "[encoded data removed]",
      "text/plain": [
       "<Figure size 1200x700 with 1 Axes>"
      ]
     },
     "metadata": {},
     "output_type": "display_data"
    },
    {
     "name": "stdout",
     "output_type": "stream",
     "text": [
      "\n",
      "--- Mean RFM Values (Transposed for easy comparison) ---\n",
      "Cluster               0            1           2           3\n",
      "Recency       27.599665   229.732471   28.407821  396.229867\n",
      "Frequency     19.288107     5.055140    3.043895    1.375637\n",
      "Monetary   10979.157033  1984.205213  867.885045  322.149980\n"
     ]
    }
   ],
   "source": [
    "# ---  Characterize Each Cluster ---\n",
    "\n",
    "# I will Group by 'Cluster' and calculate the mean for Recency, Frequency, and Monetary\n",
    "# I will Use the original (unscaled) RFM values for interpretation\n",
    "cluster_characteristics = rfm_df.groupby('Cluster')[['Recency', 'Frequency', 'Monetary']].mean()\n",
    "\n",
    "print(\"\\n--- Mean RFM Values for Each Cluster ---\")\n",
    "print(cluster_characteristics)\n",
    "\n",
    "# Optional: Visualizing cluster characteristics (e.g., using a bar chart or radar chart)\n",
    "# This will be very useful for my final report/presentation.\n",
    "\n",
    "# Bar chart visualization\n",
    "cluster_characteristics.plot(kind='bar', figsize=(12, 7), rot=0)\n",
    "plt.title('Average RFM Values per Cluster')\n",
    "plt.xlabel('Cluster')\n",
    "plt.ylabel('Average Value')\n",
    "plt.grid(axis='y')\n",
    "plt.show()\n",
    "\n",
    "# I  decided to transpose for easier comparison because I  prefer (columns as clusters)\n",
    "print(\"\\n--- Mean RFM Values (Transposed for easy comparison) ---\")\n",
    "print(cluster_characteristics.T)"
   ]
  },
  {
   "cell_type": "markdown",
   "id": "5cd67a5a-65b6-459c-ba55-9db0b2692166",
   "metadata": {},
   "source": [
    "### Actionable Recommendations"
   ]
  },
  {
   "cell_type": "markdown",
   "id": "1f4b38ea-3bb2-487d-98a4-58f25445ce67",
   "metadata": {},
   "source": [
    "#####\n",
    "Cluster 0: \"Loyal Champions\" / \"High-Value Loyalists\"\n",
    "\n",
    "Characteristics: Very Recent, Very Frequent, Very High Monetary Value. These are your most valuable customers.\n",
    "Goal: Retain them, reward them, and encourage continued high engagement.\n",
    "Recommendations:\n",
    "Exclusive Loyalty Programs: Offer tiered loyalty programs with exclusive benefits (e.g., early access to sales, new products, special discounts, free premium shipping).\n",
    "Personalized Communications: Send highly personalized product recommendations based on their past purchase history.\n",
    "VIP Treatment: Provide dedicated customer support or special recognition.\n",
    "Feedback & Advocacy: Encourage them to provide feedback, write reviews, and become brand advocates (e.g., referral programs).\n",
    "Cluster 1: \"At-Risk Loyalists\" / \"Past Valued\"\n",
    "\n",
    "Characteristics: Not very Recent, Moderate Frequency, Decent Monetary Value. They used to be good but are drifting away.\n",
    "Goal: Re-engage them before they churn completely. Win back their business.\n",
    "Recommendations:\n",
    "Win-Back Campaigns: Send targeted emails with personalized offers or discounts to entice them back.\n",
    "\"We Miss You\" Messages: Acknowledge their past loyalty and inquire about their reasons for inactivity (e.g., short survey with an incentive).\n",
    "Highlight New Products/Features: Inform them about recent improvements or new arrivals that might pique their interest.\n",
    "Reminders: Gentle reminders of products they viewed or frequently purchased.\n",
    "Cluster 2: \"New & Promising\" / \"Recent Buyers\"\n",
    "\n",
    "Characteristics: Highly Recent, Less Frequent, Lower Monetary Value. They are active now but haven't built strong loyalty or spending habits yet.\n",
    "Goal: Nurture them, encourage repeat purchases, and increase their frequency and monetary value.\n",
    "Recommendations:\n",
    "Welcome Series: Onboarding email series introducing different product categories, features, and benefits.\n",
    "First-Purchase Incentives: Offer small discounts on their second purchase or free shipping to encourage immediate repeat business.\n",
    "Product Discovery: Recommend complementary products based on their initial purchase.\n",
    "Educational Content: Provide content that highlights the value of the platform or popular products to build engagement.\n",
    "Cluster 3: \"Churned/Lost\" / \"Low-Value Infrequent\"\n",
    "\n",
    "Characteristics: Least Recent, Least Frequent, Spends the least. These customers have likely churned or are of very low value.\n",
    "Goal: Assess if worth re-engaging, or focus resources elsewhere.\n",
    "Recommendations:\n",
    "Low-Cost Re-engagement: Send very infrequent, broad promotions (e.g., seasonal sales) to see if there's any spark of interest. Avoid heavy investment.\n",
    "Identify Root Cause (if possible): For a small sample, could survey (e.g., exit survey style) if resources allow, but typically, these are low priority.\n",
    "Focus on Acquisition over Retention: For this segment, it's often more cost-effective to acquire new customers than to heavily invest in winning back these very low-engagement users."
   ]
  },
  {
   "cell_type": "code",
   "execution_count": 14,
   "id": "ebb8c582-812b-4eb7-bbce-197393d39897",
   "metadata": {},
   "outputs": [
    {
     "name": "stdout",
     "output_type": "stream",
     "text": [
      "Successfully exported 'customer_segments.csv'\n",
      "Successfully exported 'cleaned_transactions.csv'\n",
      "\n",
      "Your data is ready to be imported into Tableau!\n",
      "Files created: customer_segments.csv and cleaned_transactions.csv\n"
     ]
    }
   ],
   "source": [
    "import pandas as pd\n",
    "\n",
    "# Exporting the RFM DataFrame with customer clusters\n",
    "rfm_df.to_csv('customer_segments.csv', index=False)\n",
    "print(\"Successfully exported 'customer_segments.csv'\")\n",
    "\n",
    "# Exporting the full cleaned transaction DataFrame\n",
    "# This will be useful for other visuals like sales trends, top products, etc.\n",
    "df.to_csv('cleaned_transactions.csv', index=False)\n",
    "print(\"Successfully exported 'cleaned_transactions.csv'\")\n",
    "\n",
    "print(\"\\nYour data is ready to be imported into Tableau!\")\n",
    "print(\"Files created: customer_segments.csv and cleaned_transactions.csv\")"
   ]
  },
  {
   "cell_type": "code",
   "execution_count": null,
   "id": "d410e10c-ffba-4b25-a517-bac6fc58712c",
   "metadata": {},
   "outputs": [],
   "source": []
  }
 ],
 "metadata": {
  "kernelspec": {
   "display_name": "Python 3 (ipykernel)",
   "language": "python",
   "name": "python3"
  },
  "language_info": {
   "codemirror_mode": {
    "name": "ipython",
    "version": 3
   },
   "file_extension": ".py",
   "mimetype": "text/x-python",
   "name": "python",
   "nbconvert_exporter": "python",
   "pygments_lexer": "ipython3",
   "version": "3.11.7"
  }
 },
 "nbformat": 4,
 "nbformat_minor": 5
}
